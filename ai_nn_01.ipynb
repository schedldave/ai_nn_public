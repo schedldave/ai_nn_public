{
 "cells": [
  {
   "cell_type": "markdown",
   "metadata": {},
   "source": [
    "# Excercise 04/01 - Neural Networks\n",
    "\n",
    "Contact: Dr. David C. Schedl <br/>\n",
    "E-Mail: david.schedl@fh-hagenberg.at <br/>\n",
    "Note: this tutorial is geared towards students **experienced in programming** and aims to introduce you to **Backpropagation and NNs**.\n",
    "\n",
    "*Acknowledgements:*\n",
    "This notebook is strongly inspired by the NN-zero-to-here lecture series of Andrej Karpathy, available [here](https://github.com/karpathy/nn-zero-to-hero).\n",
    "\n",
    "## Setup\n",
    "As first step, we need to import the necessary libraries. "
   ]
  },
  {
   "cell_type": "code",
   "execution_count": 5,
   "metadata": {},
   "outputs": [],
   "source": [
    "# Setup and import of libraries\n",
    "import math\n",
    "import random\n",
    "import numpy as np\n",
    "import matplotlib.pyplot as plt"
   ]
  },
  {
   "cell_type": "markdown",
   "metadata": {},
   "source": [
    "# Computing Gradients\n",
    "Let's start simple with the quadratic function $f(x) = 3x^2 - 4x + 5$."
   ]
  },
  {
   "cell_type": "code",
   "execution_count": 6,
   "metadata": {},
   "outputs": [],
   "source": [
    "def f(x):\n",
    "  return 3*x**2 - 4*x + 5"
   ]
  },
  {
   "cell_type": "markdown",
   "metadata": {},
   "source": [
    "Let's plot it in the range $[-5, 5]$."
   ]
  },
  {
   "cell_type": "code",
   "execution_count": 7,
   "metadata": {},
   "outputs": [
    {
     "data": {
      "image/png": "[encoded data removed]",
      "text/plain": [
       "<Figure size 432x288 with 1 Axes>"
      ]
     },
     "metadata": {
      "needs_background": "light"
     },
     "output_type": "display_data"
    }
   ],
   "source": [
    "xs = np.arange(-5, 5, 0.25)\n",
    "ys = f(xs)\n",
    "plt.plot(xs, ys, label='f(x)')\n",
    "plt.legend(); plt.show()"
   ]
  },
  {
   "cell_type": "markdown",
   "metadata": {},
   "source": [
    "The derivative of this function is $\\frac{df(x)}{dx} = 6x - 4$.\n",
    "\n",
    "The minimum ($0 = \\frac{df(x)}{dx}$) is at $x = \\frac{4}{6} = \\frac{2}{3}$.\n",
    "\n",
    "Let's numerically derive the function and let's look at some values. "
   ]
  },
  {
   "cell_type": "code",
   "execution_count": 8,
   "metadata": {},
   "outputs": [
    {
     "data": {
      "text/plain": [
       "2.999378523327323e-06"
      ]
     },
     "execution_count": 8,
     "metadata": {},
     "output_type": "execute_result"
    }
   ],
   "source": [
    "h = 0.000001\n",
    "x = 2/3 # test with -4, 0, 2/3 and 4\n",
    "(f(x + h) - f(x))/h"
   ]
  },
  {
   "cell_type": "markdown",
   "metadata": {},
   "source": [
    "🤔 Can you also derive $df(x)/df$?"
   ]
  },
  {
   "cell_type": "markdown",
   "metadata": {},
   "source": [
    "## Simple Gradient Descent\n",
    "\n",
    "With the gradient we can now implement a simple gradient descent algorithm, which iteratively updates the value of $x$ in the direction of the negative gradient.\n",
    "The parameters are the learning rate (often denoted as $\\alpha$) and the number of iterations $N$.\n",
    "\n",
    "🤔 What happens if you change the learning rate or the number of iterations?"
   ]
  },
  {
   "cell_type": "code",
   "execution_count": 9,
   "metadata": {},
   "outputs": [
    {
     "name": "stdout",
     "output_type": "stream",
     "text": [
      "x' reached: 0.6661768312361573 after 10 iterations and should be 2/3!\n"
     ]
    },
    {
     "data": {
      "image/png": "[encoded data removed]",
      "text/plain": [
       "<Figure size 432x288 with 1 Axes>"
      ]
     },
     "metadata": {
      "needs_background": "light"
     },
     "output_type": "display_data"
    }
   ],
   "source": [
    "# simple gradient descent\n",
    "\n",
    "x = -4\n",
    "_xs = [x]\n",
    "learning_rate = 0.1\n",
    "N = 10 # number of iterations\n",
    "for i in range(N):\n",
    "    df = (f(x + h) - f(x))/h\n",
    "    x = x - learning_rate * df\n",
    "    _xs.append(x)\n",
    "\n",
    "print(f\"x' reached: {x} after {N} iterations and should be 2/3!\")\n",
    "plt.plot(xs, ys, label='f(x)') # plot the function\n",
    "plt.plot(_xs, f(np.array(_xs)), 'r.', label='x\\'') # plot the path our gradient descent took\n",
    "plt.legend(); plt.show()"
   ]
  },
  {
   "cell_type": "markdown",
   "metadata": {},
   "source": [
    "## More Complex Functions\n",
    "An example with a more complex function and multiple parameters:\n",
    "$f(x, y, z) = (x + y) * z$. <br>\n",
    "This example with the exact same parameters is used on the slides: \n",
    "$ x = -2, y = 5, z = -4$."
   ]
  },
  {
   "cell_type": "code",
   "execution_count": 10,
   "metadata": {},
   "outputs": [
    {
     "name": "stdout",
     "output_type": "stream",
     "text": [
      "-12.0\n"
     ]
    }
   ],
   "source": [
    "# let's get more complex\n",
    "x = -2.0\n",
    "y = 5.0\n",
    "z = -4.0\n",
    "def f(x,y,z): \n",
    "    return (x+y)*z\n",
    "print(f(x,y,z))"
   ]
  },
  {
   "cell_type": "markdown",
   "metadata": {},
   "source": [
    "The function has three parameters ($x,y,z$) and therefore multiple gradients are computed: $\\frac{df(x,y,z)}{dx}, \\frac{df(x,y,z)}{dy}, \\frac{df(x,y,z)}{dz}$."
   ]
  },
  {
   "cell_type": "code",
   "execution_count": 11,
   "metadata": {},
   "outputs": [
    {
     "name": "stdout",
     "output_type": "stream",
     "text": [
      "f1 -12.0\n",
      "f2 -11.9999\n",
      "slope 0.9999999999976694\n"
     ]
    }
   ],
   "source": [
    "h = 0.0001\n",
    "\n",
    "# inputs\n",
    "x = -2.0\n",
    "y = 5.0\n",
    "z = -4.0\n",
    "\n",
    "f1 = f(x,y,z)\n",
    "f2 = f(x,y,z)+h # slope -> ~  1\n",
    "# f2 = f(x+h,y,z) # slope -> ~ -4\n",
    "# f2 = f(x,y+h,z) # slope -> ~ -4\n",
    "# f2 = f(x,y,z+h) # slope -> ~  3\n",
    "\n",
    "print('f1', f1)\n",
    "print('f2', f2)\n",
    "print('slope', (f2 - f1)/h)\n"
   ]
  },
  {
   "cell_type": "markdown",
   "metadata": {},
   "source": [
    "# Task 1 📝: Derivative on sheet and paper\n",
    "\n",
    "Hand in a sheet/picture showing the manual derivative of the equation above: $f(x, y, z) = (x + y) * z$.\n",
    "\n",
    "What are the analytical gradients of $f(x,y,z)$ with respect to $x, y, z$ ($\\frac{df(x,y,z)}{dx}, \\frac{df(x,y,z)}{dy}, \\frac{df(x,y,z)}{dz}$)?\n",
    "\n",
    "Verify your results by comparing it to the numerical gradients (above)."
   ]
  },
  {
   "cell_type": "markdown",
   "metadata": {},
   "source": [
    "# Towards Backpropagation\n",
    "This is where the magic will happen ... ✨ <br>\n",
    "\n",
    "## The Value class\n",
    "First we'll implement a Value class that will help us to keep track of the compute graph, values and gradients."
   ]
  },
  {
   "cell_type": "code",
   "execution_count": 12,
   "metadata": {},
   "outputs": [
    {
     "name": "stdout",
     "output_type": "stream",
     "text": [
      "Value(data=5)\n",
      "Value(data=6)\n"
     ]
    }
   ],
   "source": [
    "class Value:\n",
    "  \n",
    "  def __init__(self, data, _children=(), _op='', label=''):\n",
    "    self.data = data\n",
    "    self.grad = 0.0\n",
    "    self._prev = set(_children)\n",
    "    self._op = _op\n",
    "    self.label = label\n",
    "\n",
    "  def __repr__(self):\n",
    "    return f\"Value(data={self.data})\"\n",
    "  \n",
    "  def __add__(self, other):\n",
    "    other = other if isinstance(other, Value) else Value(other)\n",
    "    out = Value(self.data + other.data, (self, other), '+')\n",
    "       \n",
    "    return out\n",
    "\n",
    "  def __mul__(self, other):\n",
    "    other = other if isinstance(other, Value) else Value(other)\n",
    "    out = Value(self.data * other.data, (self, other), '*')\n",
    "      \n",
    "    return out\n",
    "  \n",
    "  def __pow__(self, other):\n",
    "    assert isinstance(other, (int, float)), \"only supporting int/float powers for now\"\n",
    "    out = Value(self.data**other, (self,), f'**{other}')\n",
    "\n",
    "    return out\n",
    "  \n",
    "  def __rmul__(self, other): # other * self\n",
    "    return self * other\n",
    "\n",
    "  def __truediv__(self, other): # self / other\n",
    "    return self * other**-1\n",
    "\n",
    "  def __neg__(self): # -self\n",
    "    return self * -1\n",
    "\n",
    "  def __sub__(self, other): # self - other\n",
    "    return self + (-other)\n",
    "\n",
    "  def __radd__(self, other): # other + self\n",
    "    return self + other\n",
    "\n",
    "  def tanh(self):\n",
    "    x = self.data\n",
    "    t = (math.exp(2*x) - 1)/(math.exp(2*x) + 1)\n",
    "    out = Value(t, (self, ), 'tanh')\n",
    "    \n",
    "    return out\n",
    "\n",
    "  def relu(self):\n",
    "    out = Value(0 if self.data < 0 else self.data, (self,), 'ReLU')\n",
    "\n",
    "    return out\n",
    "  \n",
    "  def exp(self):\n",
    "    x = self.data\n",
    "    out = Value(math.exp(x), (self, ), 'exp')\n",
    "      \n",
    "    return out\n",
    "\n",
    "# a quick working example\n",
    "print(Value(1) + Value(4))\n",
    "print(Value(2) * Value(3))"
   ]
  },
  {
   "cell_type": "markdown",
   "metadata": {},
   "source": [
    "### Visualization Helpers\n",
    "\n",
    "The following functions will help us to visualize the compute graph."
   ]
  },
  {
   "cell_type": "code",
   "execution_count": 21,
   "metadata": {},
   "outputs": [
    {
     "data": {
      "image/svg+xml": "<?xml version=\"1.0\" encoding=\"UTF-8\" standalone=\"no\"?>\n<!DOCTYPE svg PUBLIC \"-//W3C//DTD SVG 1.1//EN\"\n \"http://www.w3.org/Graphics/SVG/1.1/DTD/svg11.dtd\">\n<!-- Generated by graphviz version 7.0.1 (20221109.1506)\n -->\n<!-- Pages: 1 -->\n<svg width=\"934pt\" height=\"128pt\"\n viewBox=\"0.00 0.00 934.00 128.00\" xmlns=\"http://www.w3.org/2000/svg\" xmlns:xlink=\"http://www.w3.org/1999/xlink\">\n<g id=\"graph0\" class=\"graph\" transform=\"scale(1 1) rotate(0) translate(4 124)\">\n<polygon fill=\"white\" stroke=\"none\" points=\"-4,4 -4,-124 930,-124 930,4 -4,4\"/>\n<!-- 2806758445600 -->\n<g id=\"node1\" class=\"node\">\n<title>2806758445600</title>\n<polygon fill=\"none\" stroke=\"black\" points=\"0,-83.5 0,-119.5 137,-119.5 137,-83.5 0,-83.5\"/>\n<text text-anchor=\"middle\" x=\"34\" y=\"-97.8\" font-family=\"Times New Roman,serif\" font-size=\"14.00\">data 1.00</text>\n<polyline fill=\"none\" stroke=\"black\" points=\"68,-83.5 68,-119.5\"/>\n<text text-anchor=\"middle\" x=\"102.5\" y=\"-97.8\" font-family=\"Times New Roman,serif\" font-size=\"14.00\">grad 0.00</text>\n</g>\n<!-- 2806759342624* -->\n<g id=\"node3\" class=\"node\">\n<title>2806759342624*</title>\n<ellipse fill=\"none\" stroke=\"black\" cx=\"200\" cy=\"-73.5\" rx=\"27\" ry=\"18\"/>\n<text text-anchor=\"middle\" x=\"200\" y=\"-69.8\" font-family=\"Times New Roman,serif\" font-size=\"14.00\">*</text>\n</g>\n<!-- 2806758445600&#45;&gt;2806759342624* -->\n<g id=\"edge6\" class=\"edge\">\n<title>2806758445600&#45;&gt;2806759342624*</title>\n<path fill=\"none\" stroke=\"black\" d=\"M136.91,-86.93C145.74,-85.02 154.51,-83.12 162.56,-81.38\"/>\n<polygon fill=\"black\" stroke=\"black\" points=\"163.23,-84.81 172.27,-79.28 161.75,-77.97 163.23,-84.81\"/>\n</g>\n<!-- 2806759342624 -->\n<g id=\"node2\" class=\"node\">\n<title>2806759342624</title>\n<polygon fill=\"none\" stroke=\"black\" points=\"263,-55.5 263,-91.5 400,-91.5 400,-55.5 263,-55.5\"/>\n<text text-anchor=\"middle\" x=\"297\" y=\"-69.8\" font-family=\"Times New Roman,serif\" font-size=\"14.00\">data 2.00</text>\n<polyline fill=\"none\" stroke=\"black\" points=\"331,-55.5 331,-91.5\"/>\n<text text-anchor=\"middle\" x=\"365.5\" y=\"-69.8\" font-family=\"Times New Roman,serif\" font-size=\"14.00\">grad 0.00</text>\n</g>\n<!-- 2806759344976+ -->\n<g id=\"node9\" class=\"node\">\n<title>2806759344976+</title>\n<ellipse fill=\"none\" stroke=\"black\" cx=\"463\" cy=\"-45.5\" rx=\"27\" ry=\"18\"/>\n<text text-anchor=\"middle\" x=\"463\" y=\"-41.8\" font-family=\"Times New Roman,serif\" font-size=\"14.00\">+</text>\n</g>\n<!-- 2806759342624&#45;&gt;2806759344976+ -->\n<g id=\"edge4\" class=\"edge\">\n<title>2806759342624&#45;&gt;2806759344976+</title>\n<path fill=\"none\" stroke=\"black\" d=\"M399.91,-58.93C408.74,-57.02 417.51,-55.12 425.56,-53.38\"/>\n<polygon fill=\"black\" stroke=\"black\" points=\"426.23,-56.81 435.27,-51.28 424.75,-49.97 426.23,-56.81\"/>\n</g>\n<!-- 2806759342624*&#45;&gt;2806759342624 -->\n<g id=\"edge1\" class=\"edge\">\n<title>2806759342624*&#45;&gt;2806759342624</title>\n<path fill=\"none\" stroke=\"black\" d=\"M227.21,-73.5C234.59,-73.5 243.01,-73.5 251.8,-73.5\"/>\n<polygon fill=\"black\" stroke=\"black\" points=\"251.56,-77 261.56,-73.5 251.56,-70 251.56,-77\"/>\n</g>\n<!-- 2806759343344 -->\n<g id=\"node4\" class=\"node\">\n<title>2806759343344</title>\n<polygon fill=\"none\" stroke=\"black\" points=\"0,-28.5 0,-64.5 137,-64.5 137,-28.5 0,-28.5\"/>\n<text text-anchor=\"middle\" x=\"34\" y=\"-42.8\" font-family=\"Times New Roman,serif\" font-size=\"14.00\">data 2.00</text>\n<polyline fill=\"none\" stroke=\"black\" points=\"68,-28.5 68,-64.5\"/>\n<text text-anchor=\"middle\" x=\"102.5\" y=\"-42.8\" font-family=\"Times New Roman,serif\" font-size=\"14.00\">grad 0.00</text>\n</g>\n<!-- 2806759343344&#45;&gt;2806759342624* -->\n<g id=\"edge8\" class=\"edge\">\n<title>2806759343344&#45;&gt;2806759342624*</title>\n<path fill=\"none\" stroke=\"black\" d=\"M136.91,-60.55C145.74,-62.4 154.51,-64.22 162.56,-65.9\"/>\n<polygon fill=\"black\" stroke=\"black\" points=\"161.76,-69.31 172.26,-67.93 163.19,-62.46 161.76,-69.31\"/>\n</g>\n<!-- 2806759344880 -->\n<g id=\"node5\" class=\"node\">\n<title>2806759344880</title>\n<polygon fill=\"none\" stroke=\"black\" points=\"263,-0.5 263,-36.5 400,-36.5 400,-0.5 263,-0.5\"/>\n<text text-anchor=\"middle\" x=\"297\" y=\"-14.8\" font-family=\"Times New Roman,serif\" font-size=\"14.00\">data 1.00</text>\n<polyline fill=\"none\" stroke=\"black\" points=\"331,-0.5 331,-36.5\"/>\n<text text-anchor=\"middle\" x=\"365.5\" y=\"-14.8\" font-family=\"Times New Roman,serif\" font-size=\"14.00\">grad 0.00</text>\n</g>\n<!-- 2806759344880&#45;&gt;2806759344976+ -->\n<g id=\"edge7\" class=\"edge\">\n<title>2806759344880&#45;&gt;2806759344976+</title>\n<path fill=\"none\" stroke=\"black\" d=\"M399.91,-32.55C408.74,-34.4 417.51,-36.22 425.56,-37.9\"/>\n<polygon fill=\"black\" stroke=\"black\" points=\"424.76,-41.31 435.26,-39.93 426.19,-34.46 424.76,-41.31\"/>\n</g>\n<!-- 2806759345984 -->\n<g id=\"node6\" class=\"node\">\n<title>2806759345984</title>\n<polygon fill=\"none\" stroke=\"black\" points=\"789,-27.5 789,-63.5 926,-63.5 926,-27.5 789,-27.5\"/>\n<text text-anchor=\"middle\" x=\"823\" y=\"-41.8\" font-family=\"Times New Roman,serif\" font-size=\"14.00\">data 1.00</text>\n<polyline fill=\"none\" stroke=\"black\" points=\"857,-27.5 857,-63.5\"/>\n<text text-anchor=\"middle\" x=\"891.5\" y=\"-41.8\" font-family=\"Times New Roman,serif\" font-size=\"14.00\">grad 0.00</text>\n</g>\n<!-- 2806759345984tanh -->\n<g id=\"node7\" class=\"node\">\n<title>2806759345984tanh</title>\n<ellipse fill=\"none\" stroke=\"black\" cx=\"726\" cy=\"-45.5\" rx=\"27\" ry=\"18\"/>\n<text text-anchor=\"middle\" x=\"726\" y=\"-41.8\" font-family=\"Times New Roman,serif\" font-size=\"14.00\">tanh</text>\n</g>\n<!-- 2806759345984tanh&#45;&gt;2806759345984 -->\n<g id=\"edge2\" class=\"edge\">\n<title>2806759345984tanh&#45;&gt;2806759345984</title>\n<path fill=\"none\" stroke=\"black\" d=\"M753.21,-45.5C760.59,-45.5 769.01,-45.5 777.8,-45.5\"/>\n<polygon fill=\"black\" stroke=\"black\" points=\"777.56,-49 787.56,-45.5 777.56,-42 777.56,-49\"/>\n</g>\n<!-- 2806759344976 -->\n<g id=\"node8\" class=\"node\">\n<title>2806759344976</title>\n<polygon fill=\"none\" stroke=\"black\" points=\"526,-27.5 526,-63.5 663,-63.5 663,-27.5 526,-27.5\"/>\n<text text-anchor=\"middle\" x=\"560\" y=\"-41.8\" font-family=\"Times New Roman,serif\" font-size=\"14.00\">data 3.00</text>\n<polyline fill=\"none\" stroke=\"black\" points=\"594,-27.5 594,-63.5\"/>\n<text text-anchor=\"middle\" x=\"628.5\" y=\"-41.8\" font-family=\"Times New Roman,serif\" font-size=\"14.00\">grad 0.00</text>\n</g>\n<!-- 2806759344976&#45;&gt;2806759345984tanh -->\n<g id=\"edge5\" class=\"edge\">\n<title>2806759344976&#45;&gt;2806759345984tanh</title>\n<path fill=\"none\" stroke=\"black\" d=\"M662.91,-45.5C671.21,-45.5 679.46,-45.5 687.11,-45.5\"/>\n<polygon fill=\"black\" stroke=\"black\" points=\"687.03,-49 697.03,-45.5 687.03,-42 687.03,-49\"/>\n</g>\n<!-- 2806759344976+&#45;&gt;2806759344976 -->\n<g id=\"edge3\" class=\"edge\">\n<title>2806759344976+&#45;&gt;2806759344976</title>\n<path fill=\"none\" stroke=\"black\" d=\"M490.21,-45.5C497.59,-45.5 506.01,-45.5 514.8,-45.5\"/>\n<polygon fill=\"black\" stroke=\"black\" points=\"514.56,-49 524.56,-45.5 514.56,-42 514.56,-49\"/>\n</g>\n</g>\n</svg>\n",
      "text/plain": [
       "<graphviz.graphs.Digraph at 0x28d7fe4c3a0>"
      ]
     },
     "execution_count": 21,
     "metadata": {},
     "output_type": "execute_result"
    }
   ],
   "source": [
    "from graphviz import Digraph\n",
    "\n",
    "def trace(root):\n",
    "  # builds a set of all nodes and edges in a graph\n",
    "  nodes, edges = set(), set()\n",
    "  def build(v):\n",
    "    if v not in nodes:\n",
    "      nodes.add(v)\n",
    "      for child in v._prev:\n",
    "        edges.add((child, v))\n",
    "        build(child)\n",
    "  build(root)\n",
    "  return nodes, edges\n",
    "\n",
    "def draw_dot(root):\n",
    "  dot = Digraph(format='svg', graph_attr={'rankdir': 'LR'}) # LR = left to right\n",
    "  \n",
    "  nodes, edges = trace(root)\n",
    "  for n in nodes:\n",
    "    uid = str(id(n))\n",
    "    # for any value in the graph, create a rectangular ('record') node for it\n",
    "    dot.node(name = uid, label = \"{%sdata %.2f | grad %.2f}\" % (f\"{n.label} |\" if n.label else '', n.data, n.grad), shape='record')\n",
    "    if n._op:\n",
    "      # if this value is a result of some operation, create an op node for it\n",
    "      dot.node(name = uid + n._op, label = n._op)\n",
    "      # and connect this node to it\n",
    "      dot.edge(uid + n._op, uid)\n",
    "\n",
    "  for n1, n2 in edges:\n",
    "    # connect n1 to the op node of n2\n",
    "    dot.edge(str(id(n1)), str(id(n2)) + n2._op)\n",
    "\n",
    "  return dot\n",
    "\n",
    "\n",
    "# Let's visualize a very simple example\n",
    "x = Value(1.0)\n",
    "y = (x * 2 + 1).tanh()\n",
    "draw_dot(y)\n",
    "# ignore grad for now!!!"
   ]
  },
  {
   "cell_type": "markdown",
   "metadata": {},
   "source": [
    "## Let's use the example from above\n",
    "An example with a more complex function and multiple parameters:\n",
    "$f(x, y, z) = (x + y) * z$. <br>\n",
    "This example with the exact same parameters is used on the slides: \n",
    "$ x = -2, y = 5, z = -4$."
   ]
  },
  {
   "cell_type": "code",
   "execution_count": 22,
   "metadata": {},
   "outputs": [
    {
     "data": {
      "image/svg+xml": "<?xml version=\"1.0\" encoding=\"UTF-8\" standalone=\"no\"?>\n<!DOCTYPE svg PUBLIC \"-//W3C//DTD SVG 1.1//EN\"\n \"http://www.w3.org/Graphics/SVG/1.1/DTD/svg11.dtd\">\n<!-- Generated by graphviz version 7.0.1 (20221109.1506)\n -->\n<!-- Pages: 1 -->\n<svg width=\"802pt\" height=\"127pt\"\n viewBox=\"0.00 0.00 802.00 127.00\" xmlns=\"http://www.w3.org/2000/svg\" xmlns:xlink=\"http://www.w3.org/1999/xlink\">\n<g id=\"graph0\" class=\"graph\" transform=\"scale(1 1) rotate(0) translate(4 123)\">\n<polygon fill=\"white\" stroke=\"none\" points=\"-4,4 -4,-123 798,-123 798,4 -4,4\"/>\n<!-- 2806758445600 -->\n<g id=\"node1\" class=\"node\">\n<title>2806758445600</title>\n<polygon fill=\"none\" stroke=\"black\" points=\"313.5,-82.5 313.5,-118.5 477.5,-118.5 477.5,-82.5 313.5,-82.5\"/>\n<text text-anchor=\"middle\" x=\"325\" y=\"-96.8\" font-family=\"Times New Roman,serif\" font-size=\"14.00\">z</text>\n<polyline fill=\"none\" stroke=\"black\" points=\"336.5,-82.5 336.5,-118.5\"/>\n<text text-anchor=\"middle\" x=\"372.5\" y=\"-96.8\" font-family=\"Times New Roman,serif\" font-size=\"14.00\">data &#45;4.00</text>\n<polyline fill=\"none\" stroke=\"black\" points=\"408.5,-82.5 408.5,-118.5\"/>\n<text text-anchor=\"middle\" x=\"443\" y=\"-96.8\" font-family=\"Times New Roman,serif\" font-size=\"14.00\">grad 3.00</text>\n</g>\n<!-- 2806759342960* -->\n<g id=\"node7\" class=\"node\">\n<title>2806759342960*</title>\n<ellipse fill=\"none\" stroke=\"black\" cx=\"559\" cy=\"-72.5\" rx=\"27\" ry=\"18\"/>\n<text text-anchor=\"middle\" x=\"559\" y=\"-68.8\" font-family=\"Times New Roman,serif\" font-size=\"14.00\">*</text>\n</g>\n<!-- 2806758445600&#45;&gt;2806759342960* -->\n<g id=\"edge6\" class=\"edge\">\n<title>2806758445600&#45;&gt;2806759342960*</title>\n<path fill=\"none\" stroke=\"black\" d=\"M477.25,-86.5C492.74,-83.81 508.23,-81.13 521.44,-78.84\"/>\n<polygon fill=\"black\" stroke=\"black\" points=\"521.66,-82.35 530.92,-77.2 520.47,-75.46 521.66,-82.35\"/>\n</g>\n<!-- 2806759344352 -->\n<g id=\"node2\" class=\"node\">\n<title>2806759344352</title>\n<polygon fill=\"none\" stroke=\"black\" points=\"0,-55.5 0,-91.5 169,-91.5 169,-55.5 0,-55.5\"/>\n<text text-anchor=\"middle\" x=\"11.5\" y=\"-69.8\" font-family=\"Times New Roman,serif\" font-size=\"14.00\">x</text>\n<polyline fill=\"none\" stroke=\"black\" points=\"23,-55.5 23,-91.5\"/>\n<text text-anchor=\"middle\" x=\"59\" y=\"-69.8\" font-family=\"Times New Roman,serif\" font-size=\"14.00\">data &#45;2.00</text>\n<polyline fill=\"none\" stroke=\"black\" points=\"95,-55.5 95,-91.5\"/>\n<text text-anchor=\"middle\" x=\"132\" y=\"-69.8\" font-family=\"Times New Roman,serif\" font-size=\"14.00\">grad &#45;4.00</text>\n</g>\n<!-- 2806759345984+ -->\n<g id=\"node5\" class=\"node\">\n<title>2806759345984+</title>\n<ellipse fill=\"none\" stroke=\"black\" cx=\"232\" cy=\"-45.5\" rx=\"27\" ry=\"18\"/>\n<text text-anchor=\"middle\" x=\"232\" y=\"-41.8\" font-family=\"Times New Roman,serif\" font-size=\"14.00\">+</text>\n</g>\n<!-- 2806759344352&#45;&gt;2806759345984+ -->\n<g id=\"edge4\" class=\"edge\">\n<title>2806759344352&#45;&gt;2806759345984+</title>\n<path fill=\"none\" stroke=\"black\" d=\"M168.87,-57.46C177.83,-55.73 186.57,-54.05 194.53,-52.52\"/>\n<polygon fill=\"black\" stroke=\"black\" points=\"194.93,-56.01 204.09,-50.68 193.6,-49.13 194.93,-56.01\"/>\n</g>\n<!-- 2806758445360 -->\n<g id=\"node3\" class=\"node\">\n<title>2806758445360</title>\n<polygon fill=\"none\" stroke=\"black\" points=\"2,-0.5 2,-36.5 167,-36.5 167,-0.5 2,-0.5\"/>\n<text text-anchor=\"middle\" x=\"13.5\" y=\"-14.8\" font-family=\"Times New Roman,serif\" font-size=\"14.00\">y</text>\n<polyline fill=\"none\" stroke=\"black\" points=\"25,-0.5 25,-36.5\"/>\n<text text-anchor=\"middle\" x=\"59\" y=\"-14.8\" font-family=\"Times New Roman,serif\" font-size=\"14.00\">data 5.00</text>\n<polyline fill=\"none\" stroke=\"black\" points=\"93,-0.5 93,-36.5\"/>\n<text text-anchor=\"middle\" x=\"130\" y=\"-14.8\" font-family=\"Times New Roman,serif\" font-size=\"14.00\">grad &#45;4.00</text>\n</g>\n<!-- 2806758445360&#45;&gt;2806759345984+ -->\n<g id=\"edge3\" class=\"edge\">\n<title>2806758445360&#45;&gt;2806759345984+</title>\n<path fill=\"none\" stroke=\"black\" d=\"M166.76,-33.58C176.42,-35.37 185.89,-37.13 194.45,-38.72\"/>\n<polygon fill=\"black\" stroke=\"black\" points=\"193.55,-42.11 204.02,-40.49 194.83,-35.23 193.55,-42.11\"/>\n</g>\n<!-- 2806759345984 -->\n<g id=\"node4\" class=\"node\">\n<title>2806759345984</title>\n<polygon fill=\"none\" stroke=\"black\" points=\"295,-27.5 295,-63.5 496,-63.5 496,-27.5 295,-27.5\"/>\n<text text-anchor=\"middle\" x=\"324.5\" y=\"-41.8\" font-family=\"Times New Roman,serif\" font-size=\"14.00\">q (x+y)</text>\n<polyline fill=\"none\" stroke=\"black\" points=\"354,-27.5 354,-63.5\"/>\n<text text-anchor=\"middle\" x=\"388\" y=\"-41.8\" font-family=\"Times New Roman,serif\" font-size=\"14.00\">data 3.00</text>\n<polyline fill=\"none\" stroke=\"black\" points=\"422,-27.5 422,-63.5\"/>\n<text text-anchor=\"middle\" x=\"459\" y=\"-41.8\" font-family=\"Times New Roman,serif\" font-size=\"14.00\">grad &#45;4.00</text>\n</g>\n<!-- 2806759345984&#45;&gt;2806759342960* -->\n<g id=\"edge5\" class=\"edge\">\n<title>2806759345984&#45;&gt;2806759342960*</title>\n<path fill=\"none\" stroke=\"black\" d=\"M495.56,-62.06C504.58,-63.57 513.28,-65.02 521.17,-66.34\"/>\n<polygon fill=\"black\" stroke=\"black\" points=\"520.53,-69.78 530.97,-67.98 521.69,-62.88 520.53,-69.78\"/>\n</g>\n<!-- 2806759345984+&#45;&gt;2806759345984 -->\n<g id=\"edge1\" class=\"edge\">\n<title>2806759345984+&#45;&gt;2806759345984</title>\n<path fill=\"none\" stroke=\"black\" d=\"M259.31,-45.5C266.53,-45.5 274.85,-45.5 283.73,-45.5\"/>\n<polygon fill=\"black\" stroke=\"black\" points=\"283.73,-49 293.73,-45.5 283.73,-42 283.73,-49\"/>\n</g>\n<!-- 2806759342960 -->\n<g id=\"node6\" class=\"node\">\n<title>2806759342960</title>\n<polygon fill=\"none\" stroke=\"black\" points=\"622,-54.5 622,-90.5 794,-90.5 794,-54.5 622,-54.5\"/>\n<text text-anchor=\"middle\" x=\"634\" y=\"-68.8\" font-family=\"Times New Roman,serif\" font-size=\"14.00\">o</text>\n<polyline fill=\"none\" stroke=\"black\" points=\"646,-54.5 646,-90.5\"/>\n<text text-anchor=\"middle\" x=\"685.5\" y=\"-68.8\" font-family=\"Times New Roman,serif\" font-size=\"14.00\">data &#45;12.00</text>\n<polyline fill=\"none\" stroke=\"black\" points=\"725,-54.5 725,-90.5\"/>\n<text text-anchor=\"middle\" x=\"759.5\" y=\"-68.8\" font-family=\"Times New Roman,serif\" font-size=\"14.00\">grad 1.00</text>\n</g>\n<!-- 2806759342960*&#45;&gt;2806759342960 -->\n<g id=\"edge2\" class=\"edge\">\n<title>2806759342960*&#45;&gt;2806759342960</title>\n<path fill=\"none\" stroke=\"black\" d=\"M586.28,-72.5C593.54,-72.5 601.86,-72.5 610.67,-72.5\"/>\n<polygon fill=\"black\" stroke=\"black\" points=\"610.53,-76 620.53,-72.5 610.53,-69 610.53,-76\"/>\n</g>\n</g>\n</svg>\n",
      "text/plain": [
       "<graphviz.graphs.Digraph at 0x28d7fd71100>"
      ]
     },
     "execution_count": 22,
     "metadata": {},
     "output_type": "execute_result"
    }
   ],
   "source": [
    "x = Value(-2.0); x.label='x'\n",
    "y = Value(5); y.label='y'\n",
    "z = Value(-4.0); z.label='z'\n",
    "\n",
    "q = x + y; q.label = 'q (x+y)'\n",
    "o = q*z; o.label='o'\n",
    "\n",
    "# gradients\n",
    "o.grad = 1.0\n",
    "q.grad = -4.0\n",
    "x.grad = -4.0\n",
    "y.grad = -4.0\n",
    "z.grad = 3.0\n",
    "\n",
    "draw_dot(o)"
   ]
  },
  {
   "cell_type": "markdown",
   "metadata": {},
   "source": [
    "# Task 2 📝: Backprop on sheet and paper\n",
    "\n",
    "Hand in a picture (hand-drawn or digitally with the code below) showing the gradients for the example below. <br>\n"
   ]
  },
  {
   "cell_type": "code",
   "execution_count": 24,
   "metadata": {},
   "outputs": [
    {
     "data": {
      "image/svg+xml": "<?xml version=\"1.0\" encoding=\"UTF-8\" standalone=\"no\"?>\n<!DOCTYPE svg PUBLIC \"-//W3C//DTD SVG 1.1//EN\"\n \"http://www.w3.org/Graphics/SVG/1.1/DTD/svg11.dtd\">\n<!-- Generated by graphviz version 7.0.1 (20221109.1506)\n -->\n<!-- Pages: 1 -->\n<svg width=\"1365pt\" height=\"320pt\"\n viewBox=\"0.00 0.00 1365.00 320.00\" xmlns=\"http://www.w3.org/2000/svg\" xmlns:xlink=\"http://www.w3.org/1999/xlink\">\n<g id=\"graph0\" class=\"graph\" transform=\"scale(1 1) rotate(0) translate(4 316)\">\n<polygon fill=\"white\" stroke=\"none\" points=\"-4,4 -4,-316 1361,-316 1361,4 -4,4\"/>\n<!-- 2806759339008 -->\n<g id=\"node1\" class=\"node\">\n<title>2806759339008</title>\n<polygon fill=\"none\" stroke=\"black\" points=\"612,-142.5 612,-178.5 755,-178.5 755,-142.5 612,-142.5\"/>\n<text text-anchor=\"middle\" x=\"649\" y=\"-156.8\" font-family=\"Times New Roman,serif\" font-size=\"14.00\">data 72.00</text>\n<polyline fill=\"none\" stroke=\"black\" points=\"686,-142.5 686,-178.5\"/>\n<text text-anchor=\"middle\" x=\"720.5\" y=\"-156.8\" font-family=\"Times New Roman,serif\" font-size=\"14.00\">grad 0.00</text>\n</g>\n<!-- 2806758295248+ -->\n<g id=\"node13\" class=\"node\">\n<title>2806758295248+</title>\n<ellipse fill=\"none\" stroke=\"black\" cx=\"818\" cy=\"-187.5\" rx=\"27\" ry=\"18\"/>\n<text text-anchor=\"middle\" x=\"818\" y=\"-183.8\" font-family=\"Times New Roman,serif\" font-size=\"14.00\">+</text>\n</g>\n<!-- 2806759339008&#45;&gt;2806758295248+ -->\n<g id=\"edge9\" class=\"edge\">\n<title>2806759339008&#45;&gt;2806758295248+</title>\n<path fill=\"none\" stroke=\"black\" d=\"M754.63,-174.79C763.56,-176.61 772.39,-178.41 780.47,-180.06\"/>\n<polygon fill=\"black\" stroke=\"black\" points=\"779.73,-183.48 790.23,-182.04 781.13,-176.62 779.73,-183.48\"/>\n</g>\n<!-- 2806759339008+ -->\n<g id=\"node2\" class=\"node\">\n<title>2806759339008+</title>\n<ellipse fill=\"none\" stroke=\"black\" cx=\"549\" cy=\"-156.5\" rx=\"27\" ry=\"18\"/>\n<text text-anchor=\"middle\" x=\"549\" y=\"-152.8\" font-family=\"Times New Roman,serif\" font-size=\"14.00\">+</text>\n</g>\n<!-- 2806759339008+&#45;&gt;2806759339008 -->\n<g id=\"edge1\" class=\"edge\">\n<title>2806759339008+&#45;&gt;2806759339008</title>\n<path fill=\"none\" stroke=\"black\" d=\"M576.18,-157.29C583.55,-157.51 591.98,-157.77 600.8,-158.03\"/>\n<polygon fill=\"black\" stroke=\"black\" points=\"600.51,-161.53 610.61,-158.33 600.72,-154.53 600.51,-161.53\"/>\n</g>\n<!-- 2806759341072 -->\n<g id=\"node3\" class=\"node\">\n<title>2806759341072</title>\n<polygon fill=\"none\" stroke=\"black\" points=\"310.5,-272.5 310.5,-308.5 471.5,-308.5 471.5,-272.5 310.5,-272.5\"/>\n<text text-anchor=\"middle\" x=\"322.5\" y=\"-286.8\" font-family=\"Times New Roman,serif\" font-size=\"14.00\">b</text>\n<polyline fill=\"none\" stroke=\"black\" points=\"334.5,-272.5 334.5,-308.5\"/>\n<text text-anchor=\"middle\" x=\"368.5\" y=\"-286.8\" font-family=\"Times New Roman,serif\" font-size=\"14.00\">data 1.00</text>\n<polyline fill=\"none\" stroke=\"black\" points=\"402.5,-272.5 402.5,-308.5\"/>\n<text text-anchor=\"middle\" x=\"437\" y=\"-286.8\" font-family=\"Times New Roman,serif\" font-size=\"14.00\">grad 0.00</text>\n</g>\n<!-- 2806759340688+ -->\n<g id=\"node9\" class=\"node\">\n<title>2806759340688+</title>\n<ellipse fill=\"none\" stroke=\"black\" cx=\"549\" cy=\"-235.5\" rx=\"27\" ry=\"18\"/>\n<text text-anchor=\"middle\" x=\"549\" y=\"-231.8\" font-family=\"Times New Roman,serif\" font-size=\"14.00\">+</text>\n</g>\n<!-- 2806759341072&#45;&gt;2806759340688+ -->\n<g id=\"edge16\" class=\"edge\">\n<title>2806759341072&#45;&gt;2806759340688+</title>\n<path fill=\"none\" stroke=\"black\" d=\"M459.14,-272.5C468.23,-269.69 477.39,-266.66 486,-263.5 495.99,-259.83 506.63,-255.28 516.22,-250.92\"/>\n<polygon fill=\"black\" stroke=\"black\" points=\"517.55,-254.16 525.14,-246.77 514.6,-247.81 517.55,-254.16\"/>\n</g>\n<!-- 2806759339056 -->\n<g id=\"node4\" class=\"node\">\n<title>2806759339056</title>\n<polygon fill=\"none\" stroke=\"black\" points=\"296,-138.5 296,-174.5 486,-174.5 486,-138.5 296,-138.5\"/>\n<text text-anchor=\"middle\" x=\"319.5\" y=\"-152.8\" font-family=\"Times New Roman,serif\" font-size=\"14.00\">x2w2</text>\n<polyline fill=\"none\" stroke=\"black\" points=\"343,-138.5 343,-174.5\"/>\n<text text-anchor=\"middle\" x=\"380\" y=\"-152.8\" font-family=\"Times New Roman,serif\" font-size=\"14.00\">data 27.00</text>\n<polyline fill=\"none\" stroke=\"black\" points=\"417,-138.5 417,-174.5\"/>\n<text text-anchor=\"middle\" x=\"451.5\" y=\"-152.8\" font-family=\"Times New Roman,serif\" font-size=\"14.00\">grad 0.00</text>\n</g>\n<!-- 2806759339056&#45;&gt;2806759339008+ -->\n<g id=\"edge10\" class=\"edge\">\n<title>2806759339056&#45;&gt;2806759339008+</title>\n<path fill=\"none\" stroke=\"black\" d=\"M485.9,-156.5C494.45,-156.5 502.74,-156.5 510.32,-156.5\"/>\n<polygon fill=\"black\" stroke=\"black\" points=\"510.09,-160 520.09,-156.5 510.09,-153 510.09,-160\"/>\n</g>\n<!-- 2806759339056* -->\n<g id=\"node5\" class=\"node\">\n<title>2806759339056*</title>\n<ellipse fill=\"none\" stroke=\"black\" cx=\"233\" cy=\"-156.5\" rx=\"27\" ry=\"18\"/>\n<text text-anchor=\"middle\" x=\"233\" y=\"-152.8\" font-family=\"Times New Roman,serif\" font-size=\"14.00\">*</text>\n</g>\n<!-- 2806759339056*&#45;&gt;2806759339056 -->\n<g id=\"edge2\" class=\"edge\">\n<title>2806759339056*&#45;&gt;2806759339056</title>\n<path fill=\"none\" stroke=\"black\" d=\"M260.46,-156.5C267.68,-156.5 275.95,-156.5 284.76,-156.5\"/>\n<polygon fill=\"black\" stroke=\"black\" points=\"284.64,-160 294.64,-156.5 284.64,-153 284.64,-160\"/>\n</g>\n<!-- 2806759021200 -->\n<g id=\"node6\" class=\"node\">\n<title>2806759021200</title>\n<polygon fill=\"none\" stroke=\"black\" points=\"1190,-196.5 1190,-232.5 1357,-232.5 1357,-196.5 1190,-196.5\"/>\n<text text-anchor=\"middle\" x=\"1202\" y=\"-210.8\" font-family=\"Times New Roman,serif\" font-size=\"14.00\">o</text>\n<polyline fill=\"none\" stroke=\"black\" points=\"1214,-196.5 1214,-232.5\"/>\n<text text-anchor=\"middle\" x=\"1251\" y=\"-210.8\" font-family=\"Times New Roman,serif\" font-size=\"14.00\">data 23.25</text>\n<polyline fill=\"none\" stroke=\"black\" points=\"1288,-196.5 1288,-232.5\"/>\n<text text-anchor=\"middle\" x=\"1322.5\" y=\"-210.8\" font-family=\"Times New Roman,serif\" font-size=\"14.00\">grad 0.00</text>\n</g>\n<!-- 2806759021200* -->\n<g id=\"node7\" class=\"node\">\n<title>2806759021200*</title>\n<ellipse fill=\"none\" stroke=\"black\" cx=\"1127\" cy=\"-214.5\" rx=\"27\" ry=\"18\"/>\n<text text-anchor=\"middle\" x=\"1127\" y=\"-210.8\" font-family=\"Times New Roman,serif\" font-size=\"14.00\">*</text>\n</g>\n<!-- 2806759021200*&#45;&gt;2806759021200 -->\n<g id=\"edge3\" class=\"edge\">\n<title>2806759021200*&#45;&gt;2806759021200</title>\n<path fill=\"none\" stroke=\"black\" d=\"M1154.17,-214.5C1161.49,-214.5 1169.89,-214.5 1178.77,-214.5\"/>\n<polygon fill=\"black\" stroke=\"black\" points=\"1178.71,-218 1188.71,-214.5 1178.71,-211 1178.71,-218\"/>\n</g>\n<!-- 2806759340688 -->\n<g id=\"node8\" class=\"node\">\n<title>2806759340688</title>\n<polygon fill=\"none\" stroke=\"black\" points=\"612,-210.5 612,-246.5 755,-246.5 755,-210.5 612,-210.5\"/>\n<text text-anchor=\"middle\" x=\"649\" y=\"-224.8\" font-family=\"Times New Roman,serif\" font-size=\"14.00\">data 21.00</text>\n<polyline fill=\"none\" stroke=\"black\" points=\"686,-210.5 686,-246.5\"/>\n<text text-anchor=\"middle\" x=\"720.5\" y=\"-224.8\" font-family=\"Times New Roman,serif\" font-size=\"14.00\">grad 0.00</text>\n</g>\n<!-- 2806759340688&#45;&gt;2806758295248+ -->\n<g id=\"edge8\" class=\"edge\">\n<title>2806759340688&#45;&gt;2806758295248+</title>\n<path fill=\"none\" stroke=\"black\" d=\"M742.62,-210.52C756.11,-206.34 770.05,-202.03 782.17,-198.28\"/>\n<polygon fill=\"black\" stroke=\"black\" points=\"783.19,-201.62 791.71,-195.32 781.12,-194.94 783.19,-201.62\"/>\n</g>\n<!-- 2806759340688+&#45;&gt;2806759340688 -->\n<g id=\"edge4\" class=\"edge\">\n<title>2806759340688+&#45;&gt;2806759340688</title>\n<path fill=\"none\" stroke=\"black\" d=\"M576.18,-234.12C583.55,-233.73 591.98,-233.28 600.8,-232.82\"/>\n<polygon fill=\"black\" stroke=\"black\" points=\"600.81,-236.32 610.61,-232.3 600.44,-229.33 600.81,-236.32\"/>\n</g>\n<!-- 2806759340736 -->\n<g id=\"node10\" class=\"node\">\n<title>2806759340736</title>\n<polygon fill=\"none\" stroke=\"black\" points=\"296,-217.5 296,-253.5 486,-253.5 486,-217.5 296,-217.5\"/>\n<text text-anchor=\"middle\" x=\"319.5\" y=\"-231.8\" font-family=\"Times New Roman,serif\" font-size=\"14.00\">x3w3</text>\n<polyline fill=\"none\" stroke=\"black\" points=\"343,-217.5 343,-253.5\"/>\n<text text-anchor=\"middle\" x=\"380\" y=\"-231.8\" font-family=\"Times New Roman,serif\" font-size=\"14.00\">data 20.00</text>\n<polyline fill=\"none\" stroke=\"black\" points=\"417,-217.5 417,-253.5\"/>\n<text text-anchor=\"middle\" x=\"451.5\" y=\"-231.8\" font-family=\"Times New Roman,serif\" font-size=\"14.00\">grad 0.00</text>\n</g>\n<!-- 2806759340736&#45;&gt;2806759340688+ -->\n<g id=\"edge17\" class=\"edge\">\n<title>2806759340736&#45;&gt;2806759340688+</title>\n<path fill=\"none\" stroke=\"black\" d=\"M485.9,-235.5C494.45,-235.5 502.74,-235.5 510.32,-235.5\"/>\n<polygon fill=\"black\" stroke=\"black\" points=\"510.09,-239 520.09,-235.5 510.09,-232 510.09,-239\"/>\n</g>\n<!-- 2806759340736* -->\n<g id=\"node11\" class=\"node\">\n<title>2806759340736*</title>\n<ellipse fill=\"none\" stroke=\"black\" cx=\"233\" cy=\"-238.5\" rx=\"27\" ry=\"18\"/>\n<text text-anchor=\"middle\" x=\"233\" y=\"-234.8\" font-family=\"Times New Roman,serif\" font-size=\"14.00\">*</text>\n</g>\n<!-- 2806759340736*&#45;&gt;2806759340736 -->\n<g id=\"edge5\" class=\"edge\">\n<title>2806759340736*&#45;&gt;2806759340736</title>\n<path fill=\"none\" stroke=\"black\" d=\"M260.46,-237.99C267.68,-237.85 275.95,-237.69 284.76,-237.52\"/>\n<polygon fill=\"black\" stroke=\"black\" points=\"284.71,-241.03 294.64,-237.33 284.58,-234.03 284.71,-241.03\"/>\n</g>\n<!-- 2806758295248 -->\n<g id=\"node12\" class=\"node\">\n<title>2806758295248</title>\n<polygon fill=\"none\" stroke=\"black\" points=\"881,-169.5 881,-205.5 1064,-205.5 1064,-169.5 881,-169.5\"/>\n<text text-anchor=\"middle\" x=\"901\" y=\"-183.8\" font-family=\"Times New Roman,serif\" font-size=\"14.00\">sum</text>\n<polyline fill=\"none\" stroke=\"black\" points=\"921,-169.5 921,-205.5\"/>\n<text text-anchor=\"middle\" x=\"958\" y=\"-183.8\" font-family=\"Times New Roman,serif\" font-size=\"14.00\">data 93.00</text>\n<polyline fill=\"none\" stroke=\"black\" points=\"995,-169.5 995,-205.5\"/>\n<text text-anchor=\"middle\" x=\"1029.5\" y=\"-183.8\" font-family=\"Times New Roman,serif\" font-size=\"14.00\">grad 0.00</text>\n</g>\n<!-- 2806758295248&#45;&gt;2806759021200* -->\n<g id=\"edge13\" class=\"edge\">\n<title>2806758295248&#45;&gt;2806759021200*</title>\n<path fill=\"none\" stroke=\"black\" d=\"M1063.97,-203.52C1072.83,-205.09 1081.42,-206.61 1089.25,-207.99\"/>\n<polygon fill=\"black\" stroke=\"black\" points=\"1088.53,-211.42 1098.98,-209.72 1089.75,-204.53 1088.53,-211.42\"/>\n</g>\n<!-- 2806758295248+&#45;&gt;2806758295248 -->\n<g id=\"edge6\" class=\"edge\">\n<title>2806758295248+&#45;&gt;2806758295248</title>\n<path fill=\"none\" stroke=\"black\" d=\"M845.22,-187.5C852.46,-187.5 860.79,-187.5 869.63,-187.5\"/>\n<polygon fill=\"black\" stroke=\"black\" points=\"869.56,-191 879.56,-187.5 869.56,-184 869.56,-191\"/>\n</g>\n<!-- 2806759339728 -->\n<g id=\"node14\" class=\"node\">\n<title>2806759339728</title>\n<polygon fill=\"none\" stroke=\"black\" points=\"1.5,-165.5 1.5,-201.5 168.5,-201.5 168.5,-165.5 1.5,-165.5\"/>\n<text text-anchor=\"middle\" x=\"16.5\" y=\"-179.8\" font-family=\"Times New Roman,serif\" font-size=\"14.00\">x2</text>\n<polyline fill=\"none\" stroke=\"black\" points=\"31.5,-165.5 31.5,-201.5\"/>\n<text text-anchor=\"middle\" x=\"65.5\" y=\"-179.8\" font-family=\"Times New Roman,serif\" font-size=\"14.00\">data 9.00</text>\n<polyline fill=\"none\" stroke=\"black\" points=\"99.5,-165.5 99.5,-201.5\"/>\n<text text-anchor=\"middle\" x=\"134\" y=\"-179.8\" font-family=\"Times New Roman,serif\" font-size=\"14.00\">grad 0.00</text>\n</g>\n<!-- 2806759339728&#45;&gt;2806759339056* -->\n<g id=\"edge11\" class=\"edge\">\n<title>2806759339728&#45;&gt;2806759339056*</title>\n<path fill=\"none\" stroke=\"black\" d=\"M168.39,-168.26C177.8,-166.52 186.99,-164.82 195.34,-163.28\"/>\n<polygon fill=\"black\" stroke=\"black\" points=\"195.82,-166.75 205.02,-161.49 194.55,-159.87 195.82,-166.75\"/>\n</g>\n<!-- 2806759340256 -->\n<g id=\"node15\" class=\"node\">\n<title>2806759340256</title>\n<polygon fill=\"none\" stroke=\"black\" points=\"1.5,-275.5 1.5,-311.5 168.5,-311.5 168.5,-275.5 1.5,-275.5\"/>\n<text text-anchor=\"middle\" x=\"16.5\" y=\"-289.8\" font-family=\"Times New Roman,serif\" font-size=\"14.00\">x3</text>\n<polyline fill=\"none\" stroke=\"black\" points=\"31.5,-275.5 31.5,-311.5\"/>\n<text text-anchor=\"middle\" x=\"65.5\" y=\"-289.8\" font-family=\"Times New Roman,serif\" font-size=\"14.00\">data 4.00</text>\n<polyline fill=\"none\" stroke=\"black\" points=\"99.5,-275.5 99.5,-311.5\"/>\n<text text-anchor=\"middle\" x=\"134\" y=\"-289.8\" font-family=\"Times New Roman,serif\" font-size=\"14.00\">grad 0.00</text>\n</g>\n<!-- 2806759340256&#45;&gt;2806759340736* -->\n<g id=\"edge14\" class=\"edge\">\n<title>2806759340256&#45;&gt;2806759340736*</title>\n<path fill=\"none\" stroke=\"black\" d=\"M144.59,-275.61C153.17,-272.72 161.85,-269.64 170,-266.5 179.93,-262.68 190.55,-258.08 200.14,-253.72\"/>\n<polygon fill=\"black\" stroke=\"black\" points=\"201.46,-256.96 209.07,-249.59 198.53,-250.61 201.46,-256.96\"/>\n</g>\n<!-- 2806759338288 -->\n<g id=\"node16\" class=\"node\">\n<title>2806759338288</title>\n<polygon fill=\"none\" stroke=\"black\" points=\"0,-110.5 0,-146.5 170,-146.5 170,-110.5 0,-110.5\"/>\n<text text-anchor=\"middle\" x=\"16.5\" y=\"-124.8\" font-family=\"Times New Roman,serif\" font-size=\"14.00\">w2</text>\n<polyline fill=\"none\" stroke=\"black\" points=\"33,-110.5 33,-146.5\"/>\n<text text-anchor=\"middle\" x=\"67\" y=\"-124.8\" font-family=\"Times New Roman,serif\" font-size=\"14.00\">data 3.00</text>\n<polyline fill=\"none\" stroke=\"black\" points=\"101,-110.5 101,-146.5\"/>\n<text text-anchor=\"middle\" x=\"135.5\" y=\"-124.8\" font-family=\"Times New Roman,serif\" font-size=\"14.00\">grad 0.00</text>\n</g>\n<!-- 2806759338288&#45;&gt;2806759339056* -->\n<g id=\"edge21\" class=\"edge\">\n<title>2806759338288&#45;&gt;2806759339056*</title>\n<path fill=\"none\" stroke=\"black\" d=\"M169.66,-144.54C178.65,-146.27 187.42,-147.95 195.41,-149.48\"/>\n<polygon fill=\"black\" stroke=\"black\" points=\"194.52,-152.88 205,-151.32 195.84,-146 194.52,-152.88\"/>\n</g>\n<!-- 2806759022400 -->\n<g id=\"node17\" class=\"node\">\n<title>2806759022400</title>\n<polygon fill=\"none\" stroke=\"black\" points=\"904,-224.5 904,-260.5 1041,-260.5 1041,-224.5 904,-224.5\"/>\n<text text-anchor=\"middle\" x=\"938\" y=\"-238.8\" font-family=\"Times New Roman,serif\" font-size=\"14.00\">data 0.25</text>\n<polyline fill=\"none\" stroke=\"black\" points=\"972,-224.5 972,-260.5\"/>\n<text text-anchor=\"middle\" x=\"1006.5\" y=\"-238.8\" font-family=\"Times New Roman,serif\" font-size=\"14.00\">grad 0.00</text>\n</g>\n<!-- 2806759022400&#45;&gt;2806759021200* -->\n<g id=\"edge20\" class=\"edge\">\n<title>2806759022400&#45;&gt;2806759021200*</title>\n<path fill=\"none\" stroke=\"black\" d=\"M1040.83,-230.14C1057.58,-227.06 1074.91,-223.88 1089.53,-221.2\"/>\n<polygon fill=\"black\" stroke=\"black\" points=\"1089.92,-224.68 1099.12,-219.44 1088.65,-217.8 1089.92,-224.68\"/>\n</g>\n<!-- 2806759340880 -->\n<g id=\"node18\" class=\"node\">\n<title>2806759340880</title>\n<polygon fill=\"none\" stroke=\"black\" points=\"296,-69.5 296,-105.5 486,-105.5 486,-69.5 296,-69.5\"/>\n<text text-anchor=\"middle\" x=\"319.5\" y=\"-83.8\" font-family=\"Times New Roman,serif\" font-size=\"14.00\">x1w1</text>\n<polyline fill=\"none\" stroke=\"black\" points=\"343,-69.5 343,-105.5\"/>\n<text text-anchor=\"middle\" x=\"380\" y=\"-83.8\" font-family=\"Times New Roman,serif\" font-size=\"14.00\">data 45.00</text>\n<polyline fill=\"none\" stroke=\"black\" points=\"417,-69.5 417,-105.5\"/>\n<text text-anchor=\"middle\" x=\"451.5\" y=\"-83.8\" font-family=\"Times New Roman,serif\" font-size=\"14.00\">grad 0.00</text>\n</g>\n<!-- 2806759340880&#45;&gt;2806759339008+ -->\n<g id=\"edge12\" class=\"edge\">\n<title>2806759340880&#45;&gt;2806759339008+</title>\n<path fill=\"none\" stroke=\"black\" d=\"M432.58,-105.45C458.41,-116.88 491.43,-131.48 515.52,-142.14\"/>\n<polygon fill=\"black\" stroke=\"black\" points=\"513.96,-145.27 524.52,-146.12 516.8,-138.87 513.96,-145.27\"/>\n</g>\n<!-- 2806759340880* -->\n<g id=\"node19\" class=\"node\">\n<title>2806759340880*</title>\n<ellipse fill=\"none\" stroke=\"black\" cx=\"233\" cy=\"-73.5\" rx=\"27\" ry=\"18\"/>\n<text text-anchor=\"middle\" x=\"233\" y=\"-69.8\" font-family=\"Times New Roman,serif\" font-size=\"14.00\">*</text>\n</g>\n<!-- 2806759340880*&#45;&gt;2806759340880 -->\n<g id=\"edge7\" class=\"edge\">\n<title>2806759340880*&#45;&gt;2806759340880</title>\n<path fill=\"none\" stroke=\"black\" d=\"M260.11,-75.84C267.45,-76.5 275.91,-77.26 284.92,-78.07\"/>\n<polygon fill=\"black\" stroke=\"black\" points=\"284.36,-81.53 294.64,-78.94 284.99,-74.56 284.36,-81.53\"/>\n</g>\n<!-- 2806759340352 -->\n<g id=\"node20\" class=\"node\">\n<title>2806759340352</title>\n<polygon fill=\"none\" stroke=\"black\" points=\"0,-220.5 0,-256.5 170,-256.5 170,-220.5 0,-220.5\"/>\n<text text-anchor=\"middle\" x=\"16.5\" y=\"-234.8\" font-family=\"Times New Roman,serif\" font-size=\"14.00\">w3</text>\n<polyline fill=\"none\" stroke=\"black\" points=\"33,-220.5 33,-256.5\"/>\n<text text-anchor=\"middle\" x=\"67\" y=\"-234.8\" font-family=\"Times New Roman,serif\" font-size=\"14.00\">data 5.00</text>\n<polyline fill=\"none\" stroke=\"black\" points=\"101,-220.5 101,-256.5\"/>\n<text text-anchor=\"middle\" x=\"135.5\" y=\"-234.8\" font-family=\"Times New Roman,serif\" font-size=\"14.00\">grad 0.00</text>\n</g>\n<!-- 2806759340352&#45;&gt;2806759340736* -->\n<g id=\"edge18\" class=\"edge\">\n<title>2806759340352&#45;&gt;2806759340736*</title>\n<path fill=\"none\" stroke=\"black\" d=\"M169.66,-238.5C178.19,-238.5 186.52,-238.5 194.17,-238.5\"/>\n<polygon fill=\"black\" stroke=\"black\" points=\"194.06,-242 204.06,-238.5 194.06,-235 194.06,-242\"/>\n</g>\n<!-- 2806759339968 -->\n<g id=\"node21\" class=\"node\">\n<title>2806759339968</title>\n<polygon fill=\"none\" stroke=\"black\" points=\"1.5,-55.5 1.5,-91.5 168.5,-91.5 168.5,-55.5 1.5,-55.5\"/>\n<text text-anchor=\"middle\" x=\"16.5\" y=\"-69.8\" font-family=\"Times New Roman,serif\" font-size=\"14.00\">x1</text>\n<polyline fill=\"none\" stroke=\"black\" points=\"31.5,-55.5 31.5,-91.5\"/>\n<text text-anchor=\"middle\" x=\"65.5\" y=\"-69.8\" font-family=\"Times New Roman,serif\" font-size=\"14.00\">data 9.00</text>\n<polyline fill=\"none\" stroke=\"black\" points=\"99.5,-55.5 99.5,-91.5\"/>\n<text text-anchor=\"middle\" x=\"134\" y=\"-69.8\" font-family=\"Times New Roman,serif\" font-size=\"14.00\">grad 0.00</text>\n</g>\n<!-- 2806759339968&#45;&gt;2806759340880* -->\n<g id=\"edge19\" class=\"edge\">\n<title>2806759339968&#45;&gt;2806759340880*</title>\n<path fill=\"none\" stroke=\"black\" d=\"M168.39,-73.5C177.32,-73.5 186.06,-73.5 194.07,-73.5\"/>\n<polygon fill=\"black\" stroke=\"black\" points=\"194.07,-77 204.07,-73.5 194.07,-70 194.07,-77\"/>\n</g>\n<!-- 2806759340496 -->\n<g id=\"node22\" class=\"node\">\n<title>2806759340496</title>\n<polygon fill=\"none\" stroke=\"black\" points=\"0,-0.5 0,-36.5 170,-36.5 170,-0.5 0,-0.5\"/>\n<text text-anchor=\"middle\" x=\"16.5\" y=\"-14.8\" font-family=\"Times New Roman,serif\" font-size=\"14.00\">w1</text>\n<polyline fill=\"none\" stroke=\"black\" points=\"33,-0.5 33,-36.5\"/>\n<text text-anchor=\"middle\" x=\"67\" y=\"-14.8\" font-family=\"Times New Roman,serif\" font-size=\"14.00\">data 5.00</text>\n<polyline fill=\"none\" stroke=\"black\" points=\"101,-0.5 101,-36.5\"/>\n<text text-anchor=\"middle\" x=\"135.5\" y=\"-14.8\" font-family=\"Times New Roman,serif\" font-size=\"14.00\">grad 0.00</text>\n</g>\n<!-- 2806759340496&#45;&gt;2806759340880* -->\n<g id=\"edge15\" class=\"edge\">\n<title>2806759340496&#45;&gt;2806759340880*</title>\n<path fill=\"none\" stroke=\"black\" d=\"M142.27,-36.49C151.59,-39.68 161.1,-43.09 170,-46.5 179.8,-50.26 190.31,-54.68 199.84,-58.85\"/>\n<polygon fill=\"black\" stroke=\"black\" points=\"198.16,-61.93 208.72,-62.78 200.99,-55.53 198.16,-61.93\"/>\n</g>\n</g>\n</svg>\n",
      "text/plain": [
       "<graphviz.graphs.Digraph at 0x28d7fe31520>"
      ]
     },
     "execution_count": 24,
     "metadata": {},
     "output_type": "execute_result"
    }
   ],
   "source": [
    "# enter your birthday here (will be used to generate random numbers)\n",
    "d, m, y = 29, 2, 1980\n",
    "\n",
    "# init the random number generator\n",
    "import random\n",
    "random.seed(d+m+y); r_range = (1, 9)\n",
    "\n",
    "x1 = Value(random.randint(*r_range)); x1.label='x1'\n",
    "x2 = Value(random.randint(*r_range)); x2.label='x2'\n",
    "x3 = Value(random.randint(*r_range)); x3.label='x3'\n",
    "w1 = Value(random.randint(*r_range)); w1.label='w1'\n",
    "w2 = Value(random.randint(*r_range)); w2.label='w2'\n",
    "w3 = Value(random.randint(*r_range)); w3.label='w3'\n",
    "b = Value(random.randint(*r_range));  b.label='b'\n",
    "\n",
    "x1w1 = x1*w1; x1w1.label='x1w1'\n",
    "x2w2 = x2*w2; x2w2.label='x2w2'\n",
    "x3w3 = x3*w3; x3w3.label='x3w3'\n",
    "sums = (x1w1 + x2w2) + (x3w3 + b); sums.label='sum'\n",
    "o = sums * Value(0.25); o.label='o'\n",
    "o.label='o'\n",
    "draw_dot(o)\n",
    "\n",
    "# Todo: what are the gradients?\n",
    "# o.grad = 1.0 ... and so on\n"
   ]
  }
 ],
 "metadata": {
  "kernelspec": {
   "display_name": "Python 3.9.12 64-bit",
   "language": "python",
   "name": "python3"
  },
  "language_info": {
   "codemirror_mode": {
    "name": "ipython",
    "version": 3
   },
   "file_extension": ".py",
   "mimetype": "text/x-python",
   "name": "python",
   "nbconvert_exporter": "python",
   "pygments_lexer": "ipython3",
   "version": "3.9.12"
  },
  "vscode": {
   "interpreter": {
    "hash": "0a05e4fa746b81761c76a645b508c0f51cdd970f4b4b50ae36c6a73f9a174174"
   }
  }
 },
 "nbformat": 4,
 "nbformat_minor": 4
}
